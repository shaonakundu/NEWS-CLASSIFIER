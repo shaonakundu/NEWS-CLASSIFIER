{
 "metadata": {
  "language_info": {
   "codemirror_mode": {
    "name": "ipython",
    "version": 3
   },
   "file_extension": ".py",
   "mimetype": "text/x-python",
   "name": "python",
   "nbconvert_exporter": "python",
   "pygments_lexer": "ipython3",
   "version": "3.7.3-final"
  },
  "orig_nbformat": 2,
  "kernelspec": {
   "name": "python_defaultSpec_1600593826262",
   "display_name": "Python 3.7.3 64-bit ('base': conda)"
  }
 },
 "nbformat": 4,
 "nbformat_minor": 2,
 "cells": [
  {
   "cell_type": "code",
   "execution_count": 1,
   "metadata": {},
   "outputs": [],
   "source": [
    "# Necessary Libraries\n",
    "import pandas as pd\n",
    "import numpy as np\n",
    "import pickle\n",
    "import nltk\n",
    "import os"
   ]
  },
  {
   "cell_type": "code",
   "execution_count": 2,
   "metadata": {
    "tags": []
   },
   "outputs": [
    {
     "output_type": "stream",
     "name": "stdout",
     "text": "Found punkt tokenizer at C:\\Users\\User1\\AppData\\Roaming\\nltk_data\\tokenizers\\punkt\\PY3\n"
    }
   ],
   "source": [
    "try:\n",
    "    tokenizer_path = nltk.data.find('tokenizers/punkt')\n",
    "    print(\"Found punkt tokenizer at {}\".format(tokenizer_path))\n",
    "except LookupError:\n",
    "    print(\"Downloading tokenizer\")\n",
    "    nltk.download('punkt')"
   ]
  },
  {
   "cell_type": "code",
   "execution_count": 3,
   "metadata": {},
   "outputs": [],
   "source": [
    "# Importing the dataset\n",
    "TEST_RAW_PATH = r\"test.csv\"\n",
    "DATA_PATH = os.path.join(\"./\",TEST_RAW_PATH)\n",
    "\n",
    "#Read from CSV\n",
    "df = pd.read_csv(DATA_PATH)"
   ]
  },
  {
   "cell_type": "code",
   "execution_count": 4,
   "metadata": {},
   "outputs": [
    {
     "output_type": "execute_result",
     "data": {
      "text/plain": "      id                                              title  \\\n0  20800  Specter of Trump Loosens Tongues, if Not Purse...   \n1  20801  Russian warships ready to strike terrorists ne...   \n2  20802  #NoDAPL: Native American Leaders Vow to Stay A...   \n3  20803  Tim Tebow Will Attempt Another Comeback, This ...   \n4  20804                    Keiser Report: Meme Wars (E995)   \n5  20805  Trump is USA's antique hero. Clinton will be n...   \n6  20806  Pelosi Calls for FBI Investigation to Find Out...   \n7  20807            Weekly Featured Profile – Randy Shannon   \n8  20808  Urban Population Booms Will Make Climate Chang...   \n9  20809                                                NaN   \n\n                    author                                               text  \n0         David Streitfeld  PALO ALTO, Calif.  —   After years of scorning...  \n1                      NaN  Russian warships ready to strike terrorists ne...  \n2            Common Dreams  Videos #NoDAPL: Native American Leaders Vow to...  \n3            Daniel Victor  If at first you don’t succeed, try a different...  \n4  Truth Broadcast Network  42 mins ago 1 Views 0 Comments 0 Likes 'For th...  \n5                      NaN  Trump is USA's antique hero. Clinton will be n...  \n6                  Pam Key  Sunday on NBC’s “Meet the Press,” House Minori...  \n7            Trevor Loudon  You are here: Home / *Articles of the Bound* /...  \n8                      NaN  Urban Population Booms Will Make Climate Chang...  \n9      cognitive dissident                         don't we have the receipt?  ",
      "text/html": "<div>\n<style scoped>\n    .dataframe tbody tr th:only-of-type {\n        vertical-align: middle;\n    }\n\n    .dataframe tbody tr th {\n        vertical-align: top;\n    }\n\n    .dataframe thead th {\n        text-align: right;\n    }\n</style>\n<table border=\"1\" class=\"dataframe\">\n  <thead>\n    <tr style=\"text-align: right;\">\n      <th></th>\n      <th>id</th>\n      <th>title</th>\n      <th>author</th>\n      <th>text</th>\n    </tr>\n  </thead>\n  <tbody>\n    <tr>\n      <th>0</th>\n      <td>20800</td>\n      <td>Specter of Trump Loosens Tongues, if Not Purse...</td>\n      <td>David Streitfeld</td>\n      <td>PALO ALTO, Calif.  —   After years of scorning...</td>\n    </tr>\n    <tr>\n      <th>1</th>\n      <td>20801</td>\n      <td>Russian warships ready to strike terrorists ne...</td>\n      <td>NaN</td>\n      <td>Russian warships ready to strike terrorists ne...</td>\n    </tr>\n    <tr>\n      <th>2</th>\n      <td>20802</td>\n      <td>#NoDAPL: Native American Leaders Vow to Stay A...</td>\n      <td>Common Dreams</td>\n      <td>Videos #NoDAPL: Native American Leaders Vow to...</td>\n    </tr>\n    <tr>\n      <th>3</th>\n      <td>20803</td>\n      <td>Tim Tebow Will Attempt Another Comeback, This ...</td>\n      <td>Daniel Victor</td>\n      <td>If at first you don’t succeed, try a different...</td>\n    </tr>\n    <tr>\n      <th>4</th>\n      <td>20804</td>\n      <td>Keiser Report: Meme Wars (E995)</td>\n      <td>Truth Broadcast Network</td>\n      <td>42 mins ago 1 Views 0 Comments 0 Likes 'For th...</td>\n    </tr>\n    <tr>\n      <th>5</th>\n      <td>20805</td>\n      <td>Trump is USA's antique hero. Clinton will be n...</td>\n      <td>NaN</td>\n      <td>Trump is USA's antique hero. Clinton will be n...</td>\n    </tr>\n    <tr>\n      <th>6</th>\n      <td>20806</td>\n      <td>Pelosi Calls for FBI Investigation to Find Out...</td>\n      <td>Pam Key</td>\n      <td>Sunday on NBC’s “Meet the Press,” House Minori...</td>\n    </tr>\n    <tr>\n      <th>7</th>\n      <td>20807</td>\n      <td>Weekly Featured Profile – Randy Shannon</td>\n      <td>Trevor Loudon</td>\n      <td>You are here: Home / *Articles of the Bound* /...</td>\n    </tr>\n    <tr>\n      <th>8</th>\n      <td>20808</td>\n      <td>Urban Population Booms Will Make Climate Chang...</td>\n      <td>NaN</td>\n      <td>Urban Population Booms Will Make Climate Chang...</td>\n    </tr>\n    <tr>\n      <th>9</th>\n      <td>20809</td>\n      <td>NaN</td>\n      <td>cognitive dissident</td>\n      <td>don't we have the receipt?</td>\n    </tr>\n  </tbody>\n</table>\n</div>"
     },
     "metadata": {},
     "execution_count": 4
    }
   ],
   "source": [
    "df.head(10)"
   ]
  },
  {
   "cell_type": "code",
   "execution_count": 5,
   "metadata": {},
   "outputs": [
    {
     "output_type": "execute_result",
     "data": {
      "text/plain": "(5200, 4)"
     },
     "metadata": {},
     "execution_count": 5
    }
   ],
   "source": [
    "# Let's see the shape of our dataset\n",
    "df.shape"
   ]
  },
  {
   "cell_type": "code",
   "execution_count": 6,
   "metadata": {
    "tags": []
   },
   "outputs": [
    {
     "output_type": "stream",
     "name": "stdout",
     "text": "<class 'pandas.core.frame.DataFrame'>\nRangeIndex: 5200 entries, 0 to 5199\nData columns (total 4 columns):\nid        5200 non-null int64\ntitle     5078 non-null object\nauthor    4697 non-null object\ntext      5193 non-null object\ndtypes: int64(1), object(3)\nmemory usage: 162.6+ KB\n"
    }
   ],
   "source": [
    "# Info of the dataset\n",
    "df.info()"
   ]
  },
  {
   "cell_type": "code",
   "execution_count": 7,
   "metadata": {},
   "outputs": [
    {
     "output_type": "execute_result",
     "data": {
      "text/plain": "id          0\ntitle     122\nauthor    503\ntext        7\ndtype: int64"
     },
     "metadata": {},
     "execution_count": 7
    }
   ],
   "source": [
    "# checking for NULL values for each column\n",
    "df.isnull().sum()"
   ]
  },
  {
   "cell_type": "code",
   "execution_count": 8,
   "metadata": {},
   "outputs": [],
   "source": [
    "# Removing Rows with NULL values\n",
    "df.dropna(subset = [\"text\"], inplace=True)"
   ]
  },
  {
   "cell_type": "code",
   "execution_count": 9,
   "metadata": {},
   "outputs": [],
   "source": [
    "X = df['text']"
   ]
  },
  {
   "cell_type": "code",
   "execution_count": 11,
   "metadata": {},
   "outputs": [],
   "source": [
    "def preprocess(data_X):\n",
    "    # Replace email addresses with 'emailaddr'\n",
    "    X = data_X.str.replace(r'^.+@[^\\.].*\\.[a-z]{2,}$','emailaddr')\n",
    "\n",
    "    # Replace URLs with 'webaddr'\n",
    "    X = X.str.replace(r'^http\\://[a-zA-Z0-9\\-\\.]+\\.[a-zA-Z]{2,3}(/\\S*)?$','webaddr')\n",
    "\n",
    "    # Replace Currency symbols with 'currsymb' \n",
    "    X = X.str.replace(r'£|\\$|₹', 'currsymb')\n",
    "\n",
    "    # Replace 10 digit phone numbers (formats include paranthesis, spaces, no spaces, dashes) with 'phonenbr'\n",
    "    X = X.str.replace(r'^\\(?[\\d]{3}\\)?[\\s-]?[\\d]{3}[\\s-]?[\\d]{4}$','phonenbr')\n",
    "\n",
    "    # Replace numbers with 'numbr'\n",
    "    X = X.str.replace(r'\\d+(\\.\\d+)?', 'numbr')\n",
    "\n",
    "    # Remove punctuation\n",
    "    X = X.str.replace(r'[^\\w\\d\\s]', ' ')\n",
    "\n",
    "    # Replace whitespace between terms with a single space\n",
    "    X = X.str.replace(r'\\s+', ' ')\n",
    "\n",
    "    # Remove leading and trailing whitespace\n",
    "    X = X.str.replace(r'^\\s+|\\s+?$', '')\n",
    "\n",
    "    # To lowercase\n",
    "    X = X.str.lower()\n",
    "\n",
    "    \n",
    "\n",
    "    # Stemming words (removing ing, ed ...)\n",
    "    # ps = nltk.PorterStemmer()\n",
    "    # X = X.apply(lambda x: ' '.join(ps.stem(term) for term in x.split()))\n",
    "\n",
    "    return X\n",
    "\n",
    "\n",
    "\n",
    "# Call the Preprocess function\n",
    "X_preprocessed = preprocess(X)"
   ]
  },
  {
   "cell_type": "code",
   "execution_count": 12,
   "metadata": {},
   "outputs": [],
   "source": [
    "# Loading our model\n",
    "MODEL_FILE_PATH = r\"../saved_model/model1.pickle\"\n",
    "model = pickle.load(open(MODEL_FILE_PATH, 'rb'))"
   ]
  },
  {
   "cell_type": "code",
   "execution_count": 13,
   "metadata": {},
   "outputs": [],
   "source": [
    "predictions = model.predict(X_preprocessed)"
   ]
  },
  {
   "cell_type": "code",
   "execution_count": 14,
   "metadata": {},
   "outputs": [
    {
     "output_type": "execute_result",
     "data": {
      "text/plain": "array([0, 1, 1, 0, 1, 1, 0, 0, 0, 0], dtype=int64)"
     },
     "metadata": {},
     "execution_count": 14
    }
   ],
   "source": [
    "predictions[:10]"
   ]
  }
 ]
}